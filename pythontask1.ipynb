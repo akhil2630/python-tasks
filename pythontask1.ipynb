{
  "nbformat": 4,
  "nbformat_minor": 0,
  "metadata": {
    "colab": {
      "provenance": [],
      "authorship_tag": "ABX9TyNZE9PxFAo4Ru0/xqZbM0l2",
      "include_colab_link": true
    },
    "kernelspec": {
      "name": "python3",
      "display_name": "Python 3"
    },
    "language_info": {
      "name": "python"
    }
  },
  "cells": [
    {
      "cell_type": "markdown",
      "metadata": {
        "id": "view-in-github",
        "colab_type": "text"
      },
      "source": [
        "<a href=\"https://colab.research.google.com/github/akhil2630/python-tasks1/blob/main/pythontask1.ipynb\" target=\"_parent\"><img src=\"https://colab.research.google.com/assets/colab-badge.svg\" alt=\"Open In Colab\"/></a>"
      ]
    },
    {
      "cell_type": "markdown",
      "source": [
        "Write a python program to find those numbers which are divisible by 7 and multiples of 5, for user input."
      ],
      "metadata": {
        "id": "p9thHmfWxTK9"
      }
    },
    {
      "cell_type": "code",
      "execution_count": 6,
      "metadata": {
        "colab": {
          "base_uri": "https://localhost:8080/"
        },
        "id": "Awj3ZLxUoRzL",
        "outputId": "882a0f7c-4fe5-4f2a-9cf6-c16aa64b590e"
      },
      "outputs": [
        {
          "output_type": "stream",
          "name": "stdout",
          "text": [
            "Enter the staring number of the list to be checked :1\n",
            "Enter the ending number :200\n",
            "The numbers which are divisible by 7 and multiples of 5 are :\n",
            "35\n",
            "70\n",
            "105\n",
            "140\n",
            "175\n"
          ]
        }
      ],
      "source": [
        "start=int(input(\"Enter the staring number of the list to be checked :\"))\n",
        "end=int(input(\"Enter the ending number :\"))\n",
        "print(\"The numbers which are divisible by 7 and multiples of 5 are :\")\n",
        "for i in range(start,end+1):\n",
        "  if((i%7==0)and(i%5==0)):\n",
        "    print(i)\n"
      ]
    },
    {
      "cell_type": "markdown",
      "source": [
        "Write a python program to check the user input is even or odd or zero."
      ],
      "metadata": {
        "id": "uKdvi2k_xffV"
      }
    },
    {
      "cell_type": "code",
      "source": [
        "n=int(input(\"Enter a number to be checked even or odd or zero :\"))\n",
        "if (n==0):\n",
        "  print(\"The entered number is Zero\")\n",
        "elif(n%2==0):\n",
        "  print(\"The entered number is Even\")\n",
        "else:\n",
        "  print(\"The entered number is Odd\")\n",
        "\n",
        "\n"
      ],
      "metadata": {
        "colab": {
          "base_uri": "https://localhost:8080/"
        },
        "id": "3HUvqKqUxlS8",
        "outputId": "f1a516f3-0531-4d2a-95d0-5d7d9d3a2cc5"
      },
      "execution_count": 12,
      "outputs": [
        {
          "output_type": "stream",
          "name": "stdout",
          "text": [
            "Enter a number to be checked even or odd or zero :4\n",
            "The entered number is Even\n"
          ]
        }
      ]
    },
    {
      "cell_type": "markdown",
      "source": [
        "Print decimal part of an input number. If the decimal part is zero print the string : “INTEGER”"
      ],
      "metadata": {
        "id": "awBMFN5oy9pF"
      }
    },
    {
      "cell_type": "code",
      "source": [
        "n=float(input(\"Enter a number whoes decimal is to be checked :\"))\n",
        "d=n-int(n)\n",
        "if(d==0):\n",
        "  print(\"INTEGER\")\n",
        "else:\n",
        "  print(f\"The decimal part is :{d}\")"
      ],
      "metadata": {
        "colab": {
          "base_uri": "https://localhost:8080/"
        },
        "id": "8PALfMypzEjU",
        "outputId": "b14764ed-8208-4597-9f89-281a70cd71d1"
      },
      "execution_count": 16,
      "outputs": [
        {
          "output_type": "stream",
          "name": "stdout",
          "text": [
            "Enter a number whoes decimal is to be checked :4\n",
            "INTEGER\n"
          ]
        }
      ]
    }
  ]
}