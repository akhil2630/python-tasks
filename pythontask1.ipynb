{
  "nbformat": 4,
  "nbformat_minor": 0,
  "metadata": {
    "colab": {
      "provenance": [],
      "authorship_tag": "ABX9TyPqzGUmYcK1gLB/1jYcevmw",
      "include_colab_link": true
    },
    "kernelspec": {
      "name": "python3",
      "display_name": "Python 3"
    },
    "language_info": {
      "name": "python"
    }
  },
  "cells": [
    {
      "cell_type": "markdown",
      "metadata": {
        "id": "view-in-github",
        "colab_type": "text"
      },
      "source": [
        "<a href=\"https://colab.research.google.com/github/akhil2630/python-tasks1/blob/main/pythontask1.ipynb\" target=\"_parent\"><img src=\"https://colab.research.google.com/assets/colab-badge.svg\" alt=\"Open In Colab\"/></a>"
      ]
    },
    {
      "cell_type": "code",
      "execution_count": 6,
      "metadata": {
        "colab": {
          "base_uri": "https://localhost:8080/"
        },
        "id": "Awj3ZLxUoRzL",
        "outputId": "882a0f7c-4fe5-4f2a-9cf6-c16aa64b590e"
      },
      "outputs": [
        {
          "output_type": "stream",
          "name": "stdout",
          "text": [
            "Enter the staring number of the list to be checked :1\n",
            "Enter the ending number :200\n",
            "The numbers which are divisible by 7 and multiples of 5 are :\n",
            "35\n",
            "70\n",
            "105\n",
            "140\n",
            "175\n"
          ]
        }
      ],
      "source": [
        "start=int(input(\"Enter the staring number of the list to be checked :\"))\n",
        "end=int(input(\"Enter the ending number :\"))\n",
        "print(\"The numbers which are divisible by 7 and multiples of 5 are :\")\n",
        "for i in range(start,end+1):\n",
        "  if((i%7==0)and(i%5==0)):\n",
        "    print(i)\n"
      ]
    }
  ]
}