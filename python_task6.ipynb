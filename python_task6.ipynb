{
  "nbformat": 4,
  "nbformat_minor": 0,
  "metadata": {
    "colab": {
      "provenance": [],
      "authorship_tag": "ABX9TyPsvtEryGC2upU1Tzwu8dCc",
      "include_colab_link": true
    },
    "kernelspec": {
      "name": "python3",
      "display_name": "Python 3"
    },
    "language_info": {
      "name": "python"
    }
  },
  "cells": [
    {
      "cell_type": "markdown",
      "metadata": {
        "id": "view-in-github",
        "colab_type": "text"
      },
      "source": [
        "<a href=\"https://colab.research.google.com/github/akhil2630/python-tasks/blob/main/python_task6.ipynb\" target=\"_parent\"><img src=\"https://colab.research.google.com/assets/colab-badge.svg\" alt=\"Open In Colab\"/></a>"
      ]
    },
    {
      "cell_type": "markdown",
      "source": [
        "1.Write a Python program to create a class representing a Circle. Include methods to calculate its area and perimeter.\n"
      ],
      "metadata": {
        "id": "zAmM0IZZsKC3"
      }
    },
    {
      "cell_type": "code",
      "source": [
        "class circle:\n",
        "  def __init__(self,radius):\n",
        "    self.radius=radius\n",
        "  def area(self):\n",
        "    return 3.14*self.radius**2\n",
        "  def perimeter(self):\n",
        "    return 2*3.14*self.radius\n",
        "radius=int(input(\"Enter the radius of the circle : \"))\n",
        "instance=circle(radius)\n",
        "print(f\"Area of the circle : {instance.area()}\")\n",
        "print(f\"Perimeter of the circle : {instance.perimeter()}\")"
      ],
      "metadata": {
        "colab": {
          "base_uri": "https://localhost:8080/"
        },
        "id": "hSaHJppAsPcP",
        "outputId": "76688d92-2161-46a2-93d5-7d03554949cf"
      },
      "execution_count": 2,
      "outputs": [
        {
          "output_type": "stream",
          "name": "stdout",
          "text": [
            "Enter the radius of the circle : 5\n",
            "Area of the circle : 78.5\n",
            "Perimeter of the circle : 31.400000000000002\n"
          ]
        }
      ]
    },
    {
      "cell_type": "markdown",
      "source": [
        "2. Write a Python program to create a calculator class. Include methods for basic arithmetic operations.\n"
      ],
      "metadata": {
        "id": "ROvr-A_awRds"
      }
    },
    {
      "cell_type": "code",
      "source": [
        "class calculator:\n",
        "  def add(self,x,y):\n",
        "    return x+y\n",
        "  def subtract(self,x,y):\n",
        "    return x-y\n",
        "  def multiply(self,x,y):\n",
        "    return x*y\n",
        "  def divide(self,x,y):\n",
        "    if y==0:\n",
        "      return\"Can't divide by zero\"\n",
        "    else:\n",
        "      return x/y\n",
        "instance=calculator()\n",
        "print(\"calculator\")\n",
        "x=int(input(\"Enter first number : \"))\n",
        "y=int(input(\"Enter second number : \"))\n",
        "print(f\"Addition :{instance.add(x,y)}\")\n",
        "print(f\"Subtraction :{instance.subtract(x,y)}\")\n",
        "print(f\"Multiplication :{instance.multiply(x,y)}\")\n",
        "print(f\"division :{instance.divide(x,y)}\")\n"
      ],
      "metadata": {
        "colab": {
          "base_uri": "https://localhost:8080/"
        },
        "id": "7RMyO1EDwYBT",
        "outputId": "887ef79c-a27f-416b-85e8-16a2e29d1b40"
      },
      "execution_count": 7,
      "outputs": [
        {
          "output_type": "stream",
          "name": "stdout",
          "text": [
            "calculator\n",
            "Enter first number : 8\n",
            "Enter second number : 2\n",
            "Addition :10\n",
            "Subtraction :6\n",
            "Multiplication :16\n",
            "division :4.0\n"
          ]
        }
      ]
    },
    {
      "cell_type": "markdown",
      "source": [
        "3.Write a Python program to create a class that represents a shape. Include methods to calculate its area and perimeter. Implement subclasses for different shapes like circle, triangle, and square."
      ],
      "metadata": {
        "id": "hNn4xU-izTUD"
      }
    },
    {
      "cell_type": "code",
      "source": [
        "import math\n",
        "class shape:\n",
        "  def area(self):\n",
        "    pass\n",
        "  def perimeter(self):\n",
        "    pass\n",
        "class circle(shape):\n",
        "  def __init__(self,radius):\n",
        "    self.radius=radius\n",
        "  def area(self):\n",
        "    return 3.14*self.radius**2\n",
        "  def perimeter(self):\n",
        "    return 3.14*self.radius\n",
        "class triangle(shape):\n",
        "  def __init__(self,side1,side2,side3):\n",
        "    self.side1=side1\n",
        "    self.side2=side2\n",
        "    self.side3=side3\n",
        "  def area(self):\n",
        "    s=(self.side1+self.side2+self.side3)/2\n",
        "    return math.sqrt(s*(s-self.side1)*(s-self.side2)*(s-self.side3))\n",
        "  def perimeter(self):\n",
        "    return self.side1+self.side2+self.side3\n",
        "class square(shape):\n",
        "  def __init__(self,side):\n",
        "    self.side=side\n",
        "  def area(self):\n",
        "    return self.side**2\n",
        "  def perimeter(self):\n",
        "    return 4*self.side\n",
        "print(\"Area and perimeter\")\n",
        "print(\"1.Circle\")\n",
        "r=int(input(\"Enter the radius of the circle :\"))\n",
        "i1=circle(r)\n",
        "print(f\"Area of the circle is {i1.area()}\")\n",
        "print(f\"Perimeter of the circle is {i1.perimeter()}\")\n",
        "print(\"2.Triangle\")\n",
        "s1=int(input(\"Enter the side 1 of the triangle :\"))\n",
        "s2=int(input(\"Enter the side 2 of the triangle :\"))\n",
        "s3=int(input(\"Enter the side 3 of the triangle :\"))\n",
        "i2=triangle(s1,s2,s3)\n",
        "print(f\"Area of the triangle is {i2.area()}\")\n",
        "print(f\"Perimeter of the triangle is {i2.perimeter()}\")\n",
        "print(\"4.Square\")\n",
        "ss=int(input(\"Enter the side of the square :\"))\n",
        "i3=square(ss)\n",
        "print(f\"Area of the square is {i3.area()}\")\n",
        "print(f\"Perimeter of the square is {i3.perimeter()}\")"
      ],
      "metadata": {
        "colab": {
          "base_uri": "https://localhost:8080/"
        },
        "id": "g1nbxmMwzaWT",
        "outputId": "6c7d0fb1-9492-4296-8d71-c092f49c7f0e"
      },
      "execution_count": 10,
      "outputs": [
        {
          "output_type": "stream",
          "name": "stdout",
          "text": [
            "Area and perimeter\n",
            "1.Circle\n",
            "Enter the radius of the circle :3\n",
            "Area of the circle is 28.26\n",
            "Perimeter of the circle is 9.42\n",
            "2.Triangle\n",
            "Enter the side 1 of the triangle :4\n",
            "Enter the side 2 of the triangle :6\n",
            "Enter the side 3 of the triangle :8\n",
            "Area of the triangle is 11.61895003862225\n",
            "Perimeter of the triangle is 18\n",
            "4.Square\n",
            "Enter the side of the square :8\n",
            "Area of the square is 64\n",
            "Perimeter of the square is 32\n"
          ]
        }
      ]
    }
  ]
}