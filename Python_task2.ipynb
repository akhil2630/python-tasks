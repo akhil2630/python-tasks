{
  "nbformat": 4,
  "nbformat_minor": 0,
  "metadata": {
    "colab": {
      "provenance": [],
      "authorship_tag": "ABX9TyMl9XaK1WHz/g9h4VgxwCSq",
      "include_colab_link": true
    },
    "kernelspec": {
      "name": "python3",
      "display_name": "Python 3"
    },
    "language_info": {
      "name": "python"
    }
  },
  "cells": [
    {
      "cell_type": "markdown",
      "metadata": {
        "id": "view-in-github",
        "colab_type": "text"
      },
      "source": [
        "<a href=\"https://colab.research.google.com/github/akhil2630/python-tasks/blob/main/Python_task2.ipynb\" target=\"_parent\"><img src=\"https://colab.research.google.com/assets/colab-badge.svg\" alt=\"Open In Colab\"/></a>"
      ]
    },
    {
      "cell_type": "markdown",
      "source": [
        "1.Write a Python program to sum all the items in a list.\n"
      ],
      "metadata": {
        "id": "USpFvDLO7rpW"
      }
    },
    {
      "cell_type": "code",
      "source": [
        "mylist=[1,3,7,8,9,10]\n",
        "total=0\n",
        "for i in mylist:\n",
        "  total +=i\n",
        "print(f\"sum of all the elements in the list is :{total}\")"
      ],
      "metadata": {
        "colab": {
          "base_uri": "https://localhost:8080/"
        },
        "id": "u-6kd9V57yC_",
        "outputId": "6320d54b-6320-4686-b3ea-06398edac6b4"
      },
      "execution_count": null,
      "outputs": [
        {
          "output_type": "stream",
          "name": "stdout",
          "text": [
            "sum of all the elements in the list is :38\n"
          ]
        }
      ]
    },
    {
      "cell_type": "markdown",
      "source": [
        "2.Write a Python program to get the largest number from a list.\n"
      ],
      "metadata": {
        "id": "d-hZ9jbQ8_A4"
      }
    },
    {
      "cell_type": "code",
      "source": [
        "mylist=[1,4,8,19,45,56]\n",
        "largest =mylist[0]\n",
        "for i in mylist:\n",
        "  if(i>largest):\n",
        "    largest=i\n",
        "print(f\"The largest number from the list is :{largest}\")\n"
      ],
      "metadata": {
        "colab": {
          "base_uri": "https://localhost:8080/"
        },
        "id": "7sITMfuS9EUv",
        "outputId": "279b8526-ff57-4b36-e22d-0b53f751ec41"
      },
      "execution_count": null,
      "outputs": [
        {
          "output_type": "stream",
          "name": "stdout",
          "text": [
            "The largest number from the list is :56\n"
          ]
        }
      ]
    },
    {
      "cell_type": "markdown",
      "source": [
        " 3.Write a Python program to count the number of strings from a given list of strings.\n"
      ],
      "metadata": {
        "id": "P-njhsYs_Tc3"
      }
    },
    {
      "cell_type": "code",
      "source": [
        "mylist=['abc', 'xyz', 'aba', '1221']\n",
        "count=0\n",
        "for string in mylist:\n",
        "  if(len(string)>=2 and string[0]==string[-1] ):\n",
        "    count +=1\n",
        "print(f\"The number of strings from the given list of strings is :{count} \")\n"
      ],
      "metadata": {
        "colab": {
          "base_uri": "https://localhost:8080/"
        },
        "id": "YF5PrISU_YZP",
        "outputId": "be863a0d-5341-4fcb-f375-cda26590d280"
      },
      "execution_count": null,
      "outputs": [
        {
          "output_type": "stream",
          "name": "stdout",
          "text": [
            "The number of strings from the given list of strings is :2 \n"
          ]
        }
      ]
    },
    {
      "cell_type": "markdown",
      "source": [
        "4.Write a Python program to remove duplicates from a list."
      ],
      "metadata": {
        "id": "n2vIh2r9BtV6"
      }
    },
    {
      "cell_type": "code",
      "source": [
        "mylist=[1,2,1,3,4,3,5,6,7,7,8,9]\n",
        "newmylist=[]\n",
        "for i in mylist:\n",
        "  if(i not in newmylist):\n",
        "    newmylist.append(i)\n",
        "print(f\"The list without duplicates is :{newmylist}\")"
      ],
      "metadata": {
        "colab": {
          "base_uri": "https://localhost:8080/"
        },
        "id": "hgG1PnJ5CcL-",
        "outputId": "bbd26d88-e10d-468f-a4c6-8192e6352845"
      },
      "execution_count": null,
      "outputs": [
        {
          "output_type": "stream",
          "name": "stdout",
          "text": [
            "The list without duplicates is :[1, 2, 3, 4, 5, 6, 7, 8, 9]\n"
          ]
        }
      ]
    },
    {
      "cell_type": "markdown",
      "source": [
        "5.Write a Python program to check if a list is empty or not.\n"
      ],
      "metadata": {
        "id": "Ud917QG8FFcB"
      }
    },
    {
      "cell_type": "code",
      "source": [
        "mylist=[]\n",
        "if not mylist:\n",
        "  print(\"The list is empty\")\n",
        "else:\n",
        "  print(\"The list is not empty\")"
      ],
      "metadata": {
        "colab": {
          "base_uri": "https://localhost:8080/"
        },
        "id": "o3U2vieJFIhG",
        "outputId": "a5780874-f0df-4622-e3ef-38bb711ee86e"
      },
      "execution_count": null,
      "outputs": [
        {
          "output_type": "stream",
          "name": "stdout",
          "text": [
            "The list is empty\n"
          ]
        }
      ]
    },
    {
      "cell_type": "markdown",
      "source": [
        "6.Write a Python program to filter the list if the length of the character is < 4\n"
      ],
      "metadata": {
        "id": "LquY8GeQGBXh"
      }
    },
    {
      "cell_type": "code",
      "source": [
        "mylist=['abc', 'xyz', 'aba', '1221']\n",
        "newmylist=[i for i in mylist if(len(i)<4)]\n",
        "print(f\"The filtered list if the length of the character is < 4 is: {newmylist}\")\n"
      ],
      "metadata": {
        "colab": {
          "base_uri": "https://localhost:8080/"
        },
        "id": "W942UoSiGLv3",
        "outputId": "1f8d098c-3bca-4d97-c0d3-dd9ac89e6da5"
      },
      "execution_count": null,
      "outputs": [
        {
          "output_type": "stream",
          "name": "stdout",
          "text": [
            "The filtered list if the length of the character is < 4 is: ['abc', 'xyz', 'aba']\n"
          ]
        }
      ]
    },
    {
      "cell_type": "markdown",
      "source": [
        "7..Write a Python program to find the second largest number in a list.\n"
      ],
      "metadata": {
        "id": "a8mjvZfgI9tx"
      }
    },
    {
      "cell_type": "code",
      "source": [
        "mylist=[12,45,67,78,19,54,]\n",
        "newmylist=mylist.copy()\n",
        "newmylist.sort(reverse=True)\n",
        "if(len(newmylist)<2):\n",
        "  print(\"The list doesnot contain a second largest number\")\n",
        "else:\n",
        "  print(f\"The second largest number in the list is: {newmylist[1]}\")"
      ],
      "metadata": {
        "colab": {
          "base_uri": "https://localhost:8080/"
        },
        "id": "jXfVl2p0I_wI",
        "outputId": "b0f7f6d5-af55-4014-da09-aa2e4bd9fe2b"
      },
      "execution_count": null,
      "outputs": [
        {
          "output_type": "stream",
          "name": "stdout",
          "text": [
            "The second largest number in the list is: 67\n"
          ]
        }
      ]
    },
    {
      "cell_type": "markdown",
      "source": [
        "8.Write a Python program to reverse a list at a specific location."
      ],
      "metadata": {
        "id": "NlNnSIv9MEvy"
      }
    },
    {
      "cell_type": "code",
      "source": [
        "mylist=[1,2,3,4,5,6]\n",
        "location=int(input(\"Enter a location to reverse the list :\"))\n",
        "if (location<0 or location>=len(mylist)):\n",
        "  print(\"invalid location\")\n",
        "else:\n",
        "  newmylist1=mylist[:location+1]\n",
        "  newmylist1.reverse()\n",
        "  newmylist2=mylist[location+1:]\n",
        "  newmylist3=newmylist1+newmylist2\n",
        "print(f\"List after reversing at the location {location} is : {newmylist3}\")"
      ],
      "metadata": {
        "colab": {
          "base_uri": "https://localhost:8080/"
        },
        "id": "vjJNC4lNMNnx",
        "outputId": "3a50c447-4128-4bab-e46a-3b23cb3080c1"
      },
      "execution_count": null,
      "outputs": [
        {
          "output_type": "stream",
          "name": "stdout",
          "text": [
            "Enter a location to reverse the list :2\n",
            "List after reversing at the location 2 is : [3, 2, 1, 4, 5, 6]\n"
          ]
        }
      ]
    },
    {
      "cell_type": "markdown",
      "source": [
        "9.Write a Python program to check if a list is a palindrome or not. Return true otherwise false.\n"
      ],
      "metadata": {
        "id": "PjxhKqshSRGy"
      }
    },
    {
      "cell_type": "code",
      "source": [
        "mylist=[1,2,3,2,1]\n",
        "reversedlist=mylist.copy()\n",
        "reversedlist.reverse();\n",
        "if(mylist==reversedlist):\n",
        "  print(\"TRUE\")\n",
        "else:\n",
        "  print(\"FALSE\")"
      ],
      "metadata": {
        "colab": {
          "base_uri": "https://localhost:8080/"
        },
        "id": "wbz5jpSrdk8U",
        "outputId": "c55f4c2c-0357-4db6-a4e7-502f17b1bddb"
      },
      "execution_count": null,
      "outputs": [
        {
          "output_type": "stream",
          "name": "stdout",
          "text": [
            "TRUE\n"
          ]
        }
      ]
    },
    {
      "cell_type": "markdown",
      "source": [
        "10.Write a Python a program to find the union and intersection of two lists.\n"
      ],
      "metadata": {
        "id": "WbuSN6pneMlc"
      }
    },
    {
      "cell_type": "code",
      "source": [
        "list1=[1,2,3,4,5,6]\n",
        "list2=[2,4,8,9,12]\n",
        "union=list(set(list1+list2))\n",
        "intersection=[i for i in list1 if(i in list2)]\n",
        "print(f\"Union of the two list is : {union} \")\n",
        "print(f\"intersection of the two list is : {intersection} \")"
      ],
      "metadata": {
        "colab": {
          "base_uri": "https://localhost:8080/"
        },
        "id": "eBvUYiEreRV7",
        "outputId": "7440264b-e969-48b3-c720-6668490520ab"
      },
      "execution_count": null,
      "outputs": [
        {
          "output_type": "stream",
          "name": "stdout",
          "text": [
            "Union of the two list is : [1, 2, 3, 4, 5, 6, 8, 9, 12] \n",
            "intersection of the two list is : [2, 4] \n"
          ]
        }
      ]
    },
    {
      "cell_type": "markdown",
      "source": [
        "11.Write a Python script to sort (ascending and descending) a dictionary by value\n"
      ],
      "metadata": {
        "id": "26tUO51agtCd"
      }
    },
    {
      "cell_type": "code",
      "source": [
        "mydict={'a':5,\n",
        "        'b':1,\n",
        "        'c':3}\n",
        "mydictasc=dict(sorted(mydict.items(),key=lambda item:item[1]))\n",
        "mydictdec=dict(sorted(mydict.items(),key=lambda item:item[1],reverse=True))\n",
        "print(f\"The dictionary in ascending : {mydictasc}\")\n",
        "print(f\"The dictionary in descending : {mydictdec}\")"
      ],
      "metadata": {
        "colab": {
          "base_uri": "https://localhost:8080/"
        },
        "id": "J1iYJCMcgzP1",
        "outputId": "c6d8e5ca-1f91-4229-a6ea-e0da7b8ebda2"
      },
      "execution_count": null,
      "outputs": [
        {
          "output_type": "stream",
          "name": "stdout",
          "text": [
            "The dictionary in ascending : {'b': 1, 'c': 3, 'a': 5}\n",
            "The dictionary in descending : {'a': 5, 'c': 3, 'b': 1}\n"
          ]
        }
      ]
    },
    {
      "cell_type": "markdown",
      "source": [
        "12.Write a Python script to check whether a given key already exists in a dictionary.\n"
      ],
      "metadata": {
        "id": "SdHy2xLj-WfQ"
      }
    },
    {
      "cell_type": "code",
      "source": [
        "mydict={'a':1,'b':2,'c':3}\n",
        "k=input(\"Enter the key to be searched in dictionary : \")\n",
        "if k in mydict:\n",
        "  print(\"The given key exists in dicitionary \")\n",
        "else:\n",
        "  print(\"The given key doesnot exists in dicitionary \")\n",
        "\n"
      ],
      "metadata": {
        "colab": {
          "base_uri": "https://localhost:8080/"
        },
        "id": "KuQ2QE_V-u7Z",
        "outputId": "ae8865ec-607d-4f39-af3b-d6ba8671eee6"
      },
      "execution_count": 4,
      "outputs": [
        {
          "output_type": "stream",
          "name": "stdout",
          "text": [
            "Enter the key to be searched in dictionary : k\n",
            "The given key doesnot exists in dicitionary \n"
          ]
        }
      ]
    },
    {
      "cell_type": "markdown",
      "source": [
        "13.Write a Python program to sum all the values in a dictionary.\n"
      ],
      "metadata": {
        "id": "MeRLPZX_ANiR"
      }
    },
    {
      "cell_type": "code",
      "source": [
        "mydict={'a':1,'b':2,'c':3}\n",
        "total=0\n",
        "for i in mydict.values():\n",
        "  total+=i\n",
        "print(f\"The sum of all the values in the dictionay is : {total}\")"
      ],
      "metadata": {
        "colab": {
          "base_uri": "https://localhost:8080/"
        },
        "id": "ZEFs1PCWAXd5",
        "outputId": "33413c24-76d6-4ad9-abc7-caad3501bd00"
      },
      "execution_count": 5,
      "outputs": [
        {
          "output_type": "stream",
          "name": "stdout",
          "text": [
            "The sum of all the values in the dictionay is : 6\n"
          ]
        }
      ]
    },
    {
      "cell_type": "markdown",
      "source": [
        "14.Write a Python program to create a dictionary with a number and its corresponding square from 1 to input number. And also check if the input number is less than 10\n"
      ],
      "metadata": {
        "id": "ojkUhCANBdYa"
      }
    },
    {
      "cell_type": "code",
      "source": [
        "num=int(input(\"Enter a number :\"))\n",
        "if(num>=10):\n",
        "  print(\"Entered number must be less than 10 \")\n",
        "else:\n",
        "  mydict={i:i*i for i in range(1,num+1)}\n",
        "  print(f\"The required dictionay is :{mydict}\")"
      ],
      "metadata": {
        "colab": {
          "base_uri": "https://localhost:8080/"
        },
        "id": "Z7Q9Zn0FEGPB",
        "outputId": "9e7b7725-a38c-4bde-a4a4-483f8cf62686"
      },
      "execution_count": 9,
      "outputs": [
        {
          "output_type": "stream",
          "name": "stdout",
          "text": [
            "Enter a number :4\n",
            "The required dictionay is :{1: 1, 2: 4, 3: 9, 4: 16}\n"
          ]
        }
      ]
    },
    {
      "cell_type": "markdown",
      "source": [
        "15.Write a Python program to sort a given dictionary by key.\n"
      ],
      "metadata": {
        "id": "vtyvxF43Ft7Y"
      }
    },
    {
      "cell_type": "code",
      "source": [
        "mydict={'z':1,'k':2,'p':3}\n",
        "sorteddict={k:mydict[k] for k in sorted(mydict.keys())}\n",
        "print(f\"The sorted dictionary by key is :{sorteddict}\")"
      ],
      "metadata": {
        "colab": {
          "base_uri": "https://localhost:8080/"
        },
        "id": "sjVW2-avGH9Q",
        "outputId": "91271984-6d8d-4612-9b39-647f7fc9a1ae"
      },
      "execution_count": 10,
      "outputs": [
        {
          "output_type": "stream",
          "name": "stdout",
          "text": [
            "The sorted dictionary by key is :{'k': 2, 'p': 3, 'z': 1}\n"
          ]
        }
      ]
    },
    {
      "cell_type": "markdown",
      "source": [
        "16.Write a Python program to create a dictionary from a string.\n"
      ],
      "metadata": {
        "id": "T5B1FDZbHu9_"
      }
    },
    {
      "cell_type": "code",
      "source": [
        "string=\"learnpython\"\n",
        "mydict={}\n",
        "for i in string:\n",
        "  if(i in mydict):\n",
        "    mydict[i]+=1\n",
        "  else:\n",
        "    mydict[i]=1\n",
        "print(f\"The dictionay from the string is :{mydict}\")"
      ],
      "metadata": {
        "colab": {
          "base_uri": "https://localhost:8080/"
        },
        "id": "31DudSqiN8fY",
        "outputId": "e48a720f-2d6e-4f24-e5bd-5875f086ddae"
      },
      "execution_count": 13,
      "outputs": [
        {
          "output_type": "stream",
          "name": "stdout",
          "text": [
            "The dictionay from the string is :{'l': 1, 'e': 1, 'a': 1, 'r': 1, 'n': 2, 'p': 1, 'y': 1, 't': 1, 'h': 1, 'o': 1}\n"
          ]
        }
      ]
    },
    {
      "cell_type": "markdown",
      "source": [
        "17.Write a Python program to get the top three items in a shop.\n"
      ],
      "metadata": {
        "id": "Z1-YhdkoQqmP"
      }
    },
    {
      "cell_type": "code",
      "source": [
        "shopitems={'item1': 45.50, 'item2':35, 'item3': 41.30, 'item4':55, 'item5': 24}\n",
        "sorteditems=sorted(shopitems.items(),key=lambda item: item[1],reverse=True)\n",
        "topthreeitems=sorteditems[:3]\n",
        "print(f\"The top three items in the shop is :{topthreeitems}\")"
      ],
      "metadata": {
        "colab": {
          "base_uri": "https://localhost:8080/"
        },
        "id": "2A3ubaykQssX",
        "outputId": "295ef0fb-c43a-4e29-b310-537c397ff3cb"
      },
      "execution_count": 16,
      "outputs": [
        {
          "output_type": "stream",
          "name": "stdout",
          "text": [
            "The top three items in the shop is :[('item4', 55), ('item1', 45.5), ('item3', 41.3)]\n"
          ]
        }
      ]
    }
  ]
}