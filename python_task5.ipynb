{
  "nbformat": 4,
  "nbformat_minor": 0,
  "metadata": {
    "colab": {
      "provenance": [],
      "authorship_tag": "ABX9TyMRyiKdjeq0LNn3qTpHXkTn",
      "include_colab_link": true
    },
    "kernelspec": {
      "name": "python3",
      "display_name": "Python 3"
    },
    "language_info": {
      "name": "python"
    }
  },
  "cells": [
    {
      "cell_type": "markdown",
      "metadata": {
        "id": "view-in-github",
        "colab_type": "text"
      },
      "source": [
        "<a href=\"https://colab.research.google.com/github/akhil2630/python-tasks/blob/main/python_task5.ipynb\" target=\"_parent\"><img src=\"https://colab.research.google.com/assets/colab-badge.svg\" alt=\"Open In Colab\"/></a>"
      ]
    },
    {
      "cell_type": "markdown",
      "source": [
        "1. Write a Python program to check that a string contains only a certain set of characters (in this case a-z, A-Z and 0-9).\n",
        "\n"
      ],
      "metadata": {
        "id": "fpQX9wBhb6ox"
      }
    },
    {
      "cell_type": "code",
      "execution_count": null,
      "metadata": {
        "id": "5HKhizIkbt59",
        "colab": {
          "base_uri": "https://localhost:8080/"
        },
        "outputId": "dde16db1-fffa-48f7-a146-375476e735b3"
      },
      "outputs": [
        {
          "output_type": "stream",
          "name": "stdout",
          "text": [
            "The text ABCabc123 contains a-z A-z & 0-9\n"
          ]
        }
      ],
      "source": [
        "import re\n",
        "mytext=\"ABCabc123\"\n",
        "if re.search(\"^[a-zA-z0-9]*$\",mytext):\n",
        "  print(f\"The text {mytext} contains a-z A-z & 0-9\")\n",
        "else:\n",
        "  print(f\"The text {mytext} doesnot contains a-z A-z & 0-9\")\n"
      ]
    },
    {
      "cell_type": "markdown",
      "source": [
        "2. Write a Python program that matches a string that has an a followed by zero or more b's.\n",
        "\n"
      ],
      "metadata": {
        "id": "rtdxRzltcRtS"
      }
    },
    {
      "cell_type": "code",
      "source": [
        "import re\n",
        "mytext=\"abb\"\n",
        "if re.search(r\"ab*\",mytext):\n",
        "  print(f\"The text {mytext} contains a followed by zero or more b's\")\n",
        "else:\n",
        "  print(f\"The text {mytext} doesnot contains a followed by zero or more b's\")\n"
      ],
      "metadata": {
        "id": "ZjdCBYZAcZGl",
        "colab": {
          "base_uri": "https://localhost:8080/"
        },
        "outputId": "f752f894-e447-467a-a822-bc2c0fa434ca"
      },
      "execution_count": 1,
      "outputs": [
        {
          "output_type": "stream",
          "name": "stdout",
          "text": [
            "The text abb contains a followed by zero or more b's\n"
          ]
        }
      ]
    },
    {
      "cell_type": "markdown",
      "source": [
        "3. Replace only the first occurrence of 5 with five for the given string\n",
        "\n"
      ],
      "metadata": {
        "id": "kyvbz3eNcZri"
      }
    },
    {
      "cell_type": "code",
      "source": [
        "import re\n",
        "ip = 'They ate 5 apples and 5 oranges'\n",
        "op=re.sub(r\"5\",\"five\",ip)\n",
        "print(op)\n"
      ],
      "metadata": {
        "id": "pgZy45dxcqSg",
        "colab": {
          "base_uri": "https://localhost:8080/"
        },
        "outputId": "e56686f1-ec9a-4eb9-ce18-3a8d255ef8eb"
      },
      "execution_count": null,
      "outputs": [
        {
          "output_type": "stream",
          "name": "stdout",
          "text": [
            "They ate five apples and five oranges\n"
          ]
        }
      ]
    },
    {
      "cell_type": "markdown",
      "source": [
        "4. Write a Python program that matches a string that has an a followed by three 'b'.\n",
        "\n"
      ],
      "metadata": {
        "id": "h_b1-o6ncuzM"
      }
    },
    {
      "cell_type": "code",
      "source": [
        "import re\n",
        "mytext=\"abbb\"\n",
        "if re.search(r\"ab{3}\",mytext):\n",
        "  print(f\"The text {mytext} contains an a followed by three 'b'\")\n",
        "else:\n",
        "  print(f\"The text {mytext} doesnot contains an a followed by three 'b'.\")\n"
      ],
      "metadata": {
        "id": "eWIRl3LccqwE",
        "colab": {
          "base_uri": "https://localhost:8080/"
        },
        "outputId": "3f89a774-d72f-4c15-bc89-f6e64780ae7e"
      },
      "execution_count": 4,
      "outputs": [
        {
          "output_type": "stream",
          "name": "stdout",
          "text": [
            "The text abbb contains an a followed by three 'b'\n"
          ]
        }
      ]
    },
    {
      "cell_type": "markdown",
      "source": [
        "5. Write a Python program that matches a string that has an 'a' followed by anything ending in 'b'.\n",
        "\n"
      ],
      "metadata": {
        "id": "K2vPe01bc2LN"
      }
    },
    {
      "cell_type": "code",
      "source": [
        "import re\n",
        "mytext=\"a123b\"\n",
        "if re.search(r\"a.*b$\",mytext):\n",
        "  print(f\"The text {mytext} contains an'a' followed by anything ending in 'b'.\")\n",
        "else:\n",
        "  print(f\"The text {mytext} doesnot contains an 'a' followed by anything ending in 'b'.\")\n",
        "\n"
      ],
      "metadata": {
        "id": "f8KfX59qc3UJ",
        "colab": {
          "base_uri": "https://localhost:8080/"
        },
        "outputId": "47982558-038a-4e2a-ce53-5c7a52cecb9f"
      },
      "execution_count": 5,
      "outputs": [
        {
          "output_type": "stream",
          "name": "stdout",
          "text": [
            "The text a123b contains an'a' followed by anything ending in 'b'.\n"
          ]
        }
      ]
    },
    {
      "cell_type": "markdown",
      "source": [
        "6. Write a Python program to search for numbers (0-9) of length between 1 and 3 in a given string."
      ],
      "metadata": {
        "id": "NyL-DhqXdZi7"
      }
    },
    {
      "cell_type": "code",
      "source": [
        "import re\n",
        "txt=\"Exercises number 1, 12, 13, and 345 are important\"\n",
        "output=re.findall(r\"\\b\\d{1,3}\\b\",txt)\n",
        "print(f\"The output is {output} \")"
      ],
      "metadata": {
        "id": "pWsu0HljdnKX",
        "colab": {
          "base_uri": "https://localhost:8080/"
        },
        "outputId": "db93e598-6f06-41b5-e329-9640130f8d78"
      },
      "execution_count": 8,
      "outputs": [
        {
          "output_type": "stream",
          "name": "stdout",
          "text": [
            "The output is ['1', '12', '13', '345'] \n"
          ]
        }
      ]
    },
    {
      "cell_type": "markdown",
      "source": [
        "7. Write a Python program to search for literal strings within a string.\\\n",
        "Sample text : 'The quick brown fox jumps over the lazy dog.' \\\n",
        "Searched words : 'fox', 'dog', 'horse'"
      ],
      "metadata": {
        "id": "aWaHWXFjdqy7"
      }
    },
    {
      "cell_type": "code",
      "source": [
        "import re\n",
        "sample_text=\"The quick brown fox jumps over the lazy dog\"\n",
        "searched_words=[ 'fox', 'dog', 'horse']\n",
        "for i in searched_words:\n",
        "  if re.search(i,sample_text):\n",
        "    print(f\"The word {i} is found in the sample text\")\n",
        "  else:\n",
        "    print(f\"The word {i} is not found in the sample text\")\n"
      ],
      "metadata": {
        "id": "bVAMeTMddnmf",
        "colab": {
          "base_uri": "https://localhost:8080/"
        },
        "outputId": "0160c272-a229-440f-db52-6620b353bae3"
      },
      "execution_count": 10,
      "outputs": [
        {
          "output_type": "stream",
          "name": "stdout",
          "text": [
            "The word fox is found in the sample text\n",
            "The word dog is found in the sample text\n",
            "The word horse is not found in the sample text\n"
          ]
        }
      ]
    },
    {
      "cell_type": "markdown",
      "source": [
        "8. Write a Python program to search for a literal string in a string and also find the location within the original string where the pattern occurs.\n",
        "\n",
        "Sample text : 'The quick brown fox jumps over the lazy dog.' \\\n",
        "Searched words : 'fox'"
      ],
      "metadata": {
        "id": "2cgZLc6Yd0sE"
      }
    },
    {
      "cell_type": "code",
      "source": [
        "import re\n",
        "sample_text=\"The quick brown fox jumps over the lazy dog\"\n",
        "searched_words='fox'\n",
        "match=re.search(searched_words,sample_text)\n",
        "if match:\n",
        "  print(f\"The word {searched_words} is found in the text\")\n",
        "  print(f\"The word{searched_words} starts at index {match.start()} and ends at index {match.end()-1}\")\n",
        "else:\n",
        "  print(f\"The word {searched_words} not found in the text\")"
      ],
      "metadata": {
        "id": "Tj1FCCx4d3zZ",
        "colab": {
          "base_uri": "https://localhost:8080/"
        },
        "outputId": "3cca1fb6-6cf4-46d5-c4e8-ff835f46ac38"
      },
      "execution_count": 12,
      "outputs": [
        {
          "output_type": "stream",
          "name": "stdout",
          "text": [
            "The word fox is found in the text\n",
            "The wordfox starts at index 16 and ends at index 18\n"
          ]
        }
      ]
    },
    {
      "cell_type": "markdown",
      "source": [
        "9.  Write a Python program to extract year, month and date from an URL"
      ],
      "metadata": {
        "id": "ixuwdsnvdtcP"
      }
    },
    {
      "cell_type": "code",
      "source": [
        "import re\n",
        "url1= \"https://www.washingtonpost.com/news/football-insider/wp/2016/09/02/odell-beckhams-fame-rests-on-one-stupid-little-ball-josh-norman-tells-author/\"\n",
        "match=re.search(r'/(\\d{4})/(\\d{2})/(\\d{2})/',url1)\n",
        "if match:\n",
        "  year=match.group(1)\n",
        "  month=match.group(2)\n",
        "  date=match.group(3)\n",
        "  print(f\"year : {year} month : {month} date :{date}\")\n",
        "else:\n",
        "  print(\"year month date not found in url\")"
      ],
      "metadata": {
        "id": "uWA2_OfJeFpw",
        "colab": {
          "base_uri": "https://localhost:8080/"
        },
        "outputId": "3bc996e4-e1b2-49bb-c0e5-873e9c860e50"
      },
      "execution_count": 15,
      "outputs": [
        {
          "output_type": "stream",
          "name": "stdout",
          "text": [
            "year : 2016 month : 09 date :02\n"
          ]
        }
      ]
    },
    {
      "cell_type": "code",
      "source": [
        "import re\n",
        "url1= \"https://www.washingtonpost.com/news/football-insider/wp/2016/09/02/odell-beckhams-fame-rests-on-one-stupid-little-ball-josh-norman\"\n",
        "p=re.compile('\\d{4}/\\d{2}/\\d{2}/')\n",
        "print(p.findall(url1))"
      ],
      "metadata": {
        "colab": {
          "base_uri": "https://localhost:8080/"
        },
        "id": "CF4ioOhsiyNn",
        "outputId": "8a8747fe-ebec-43ae-ab7f-c9b86c1725ed"
      },
      "execution_count": null,
      "outputs": [
        {
          "output_type": "stream",
          "name": "stdout",
          "text": [
            "['2016/99/02/']\n"
          ]
        }
      ]
    },
    {
      "cell_type": "markdown",
      "source": [
        "10. Write a Python program to find URLs in a string.\n",
        "\n"
      ],
      "metadata": {
        "id": "Qdob8Ojkea-W"
      }
    },
    {
      "cell_type": "code",
      "source": [
        "import re\n",
        "text = '<p>Contents :</p><a href=\"https://w3resource.com\">Python Examples</a><a href=\"http://github.com\">Even More Examples</a>'\n",
        "url=re.findall(r'\"https?://\\S+\"',text)\n",
        "print(\"The URLs are \")\n",
        "for i in url:\n",
        "  print(i)\n"
      ],
      "metadata": {
        "id": "d9KUcdQEeIJu",
        "colab": {
          "base_uri": "https://localhost:8080/"
        },
        "outputId": "d52de94a-f50e-487c-ad4b-92ce293b4000"
      },
      "execution_count": 32,
      "outputs": [
        {
          "output_type": "stream",
          "name": "stdout",
          "text": [
            "The URLs are \n",
            "\"https://w3resource.com\"\n",
            "\"http://github.com\"\n"
          ]
        }
      ]
    },
    {
      "cell_type": "markdown",
      "source": [
        "11. Write a Python program to remove the parenthesis area in a string.\\\n",
        "\n",
        "Sample data : [\"example (.com)\", \"w3resource\", \"github (.com)\", \"stackoverflow (.com)\"] \\\n",
        "Expected Output: \\\n",
        "example  \\\n",
        "w3resource \\\n",
        "github  \\\n",
        "stackoverflow. \\\n",
        "\n"
      ],
      "metadata": {
        "id": "5mX_cCEFepSi"
      }
    },
    {
      "cell_type": "code",
      "source": [
        "import re\n",
        "sample_data=[\"example (.com)\", \"w3resource\", \"github (.com)\", \"stackoverflow (.com)\"]\n",
        "output=[]\n",
        "for i in sample_data:\n",
        "  newdata=re.sub(r'\\([^)]*\\)',\"\",i)\n",
        "  output.append(newdata)\n",
        "print(\"The desired output \")\n",
        "for j in output:\n",
        "  print(j)"
      ],
      "metadata": {
        "id": "CNYOSWfLee_M",
        "colab": {
          "base_uri": "https://localhost:8080/"
        },
        "outputId": "2d7e4b85-be4d-4c5d-d658-5798087ea3f2"
      },
      "execution_count": 33,
      "outputs": [
        {
          "output_type": "stream",
          "name": "stdout",
          "text": [
            "The desired output \n",
            "example \n",
            "w3resource\n",
            "github \n",
            "stackoverflow \n"
          ]
        }
      ]
    },
    {
      "cell_type": "markdown",
      "source": [
        "12. Write a Python program to concatenate the consecutive numbers in a given string. \\\n",
        "\n",
        "Original string:  \\\n",
        "Enter at 1 20 Kearny Street. The security desk can direct you to floor 1 6. Please have your identification ready.  \\\n",
        "\n",
        "After concatenating the consecutive numbers in the said string:  \\\n",
        "Enter at 120 Kearny Street. The security desk can direct you to floor 16. Please have your identification ready."
      ],
      "metadata": {
        "id": "sRhveFHXe7nz"
      }
    },
    {
      "cell_type": "code",
      "source": [
        "import re\n",
        "txt=\"Enter at 1 20 Kearny Street. The security desk can direct you to floor 1 6. Please have your identification ready.\"\n",
        "output=re.sub(r'(\\b\\d+)\\s+(\\d+\\b)',lambda x:x.group(1)+x.group(2),txt)\n",
        "print(f\"The desired output is {output}\")"
      ],
      "metadata": {
        "id": "4dcBL0RTe_zP",
        "colab": {
          "base_uri": "https://localhost:8080/"
        },
        "outputId": "0e3f10b1-e70a-4b8c-94c0-dc292da8487c"
      },
      "execution_count": 35,
      "outputs": [
        {
          "output_type": "stream",
          "name": "stdout",
          "text": [
            "The desired output is Enter at 120 Kearny Street. The security desk can direct you to floor 16. Please have your identification ready.\n"
          ]
        }
      ]
    }
  ]
}