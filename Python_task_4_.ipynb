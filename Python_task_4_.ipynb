{
  "nbformat": 4,
  "nbformat_minor": 0,
  "metadata": {
    "colab": {
      "provenance": [],
      "authorship_tag": "ABX9TyOXoCwPl2wbqSmg8XkR7VV2",
      "include_colab_link": true
    },
    "kernelspec": {
      "name": "python3",
      "display_name": "Python 3"
    },
    "language_info": {
      "name": "python"
    }
  },
  "cells": [
    {
      "cell_type": "markdown",
      "metadata": {
        "id": "view-in-github",
        "colab_type": "text"
      },
      "source": [
        "<a href=\"https://colab.research.google.com/github/akhil2630/python-tasks/blob/main/Python_task_4_.ipynb\" target=\"_parent\"><img src=\"https://colab.research.google.com/assets/colab-badge.svg\" alt=\"Open In Colab\"/></a>"
      ]
    },
    {
      "cell_type": "markdown",
      "source": [
        "1.Write a program to create a function show_employee() using the following conditions.\n",
        "It should accept the employee’s name and salary and display both.\n",
        "If the salary is missing in the function call then assign default value 9000 to salary\n"
      ],
      "metadata": {
        "id": "u3Eu6c4hyRsL"
      }
    },
    {
      "cell_type": "code",
      "source": [
        "def show_employee(name,salary=9000):\n",
        "  print(f\"Name: {name} salary: {salary}\")\n",
        "show_employee(\"Ben\",12000)\n",
        "show_employee(\"Jessa\")"
      ],
      "metadata": {
        "colab": {
          "base_uri": "https://localhost:8080/"
        },
        "id": "HYwh9PlwyXSz",
        "outputId": "6c09d45d-7cc8-4772-94f4-1f4edf60f45b"
      },
      "execution_count": null,
      "outputs": [
        {
          "output_type": "stream",
          "name": "stdout",
          "text": [
            "Name: Ben salary: 12000\n",
            "Name: Jessa salary: 9000\n"
          ]
        }
      ]
    },
    {
      "cell_type": "markdown",
      "source": [
        "2.Create an outer function that will accept two parameters, a and b\n",
        "Create an inner function inside an outer function that will calculate the addition of a and b\n",
        "At last, an outer function will add 5 into addition and return it\n"
      ],
      "metadata": {
        "id": "lgrum0t-zr08"
      }
    },
    {
      "cell_type": "code",
      "source": [
        "def outter_function(a,b):\n",
        "  def inner_function(a,b):\n",
        "    return a+b\n",
        "  output=inner_function(a,b)+5\n",
        "  return output\n",
        "output=outter_function(4,6)\n",
        "print(f\"Output is {output}\")"
      ],
      "metadata": {
        "colab": {
          "base_uri": "https://localhost:8080/"
        },
        "id": "MvvAyQcSz_O0",
        "outputId": "0c3d7057-fb32-49de-ca88-7ffc2ce20ddd"
      },
      "execution_count": null,
      "outputs": [
        {
          "output_type": "stream",
          "name": "stdout",
          "text": [
            "Output is 15\n"
          ]
        }
      ]
    },
    {
      "cell_type": "markdown",
      "source": [
        "3.Generate a Python list of all the even numbers between 4 to 30\n"
      ],
      "metadata": {
        "id": "N397kN2w0yuM"
      }
    },
    {
      "cell_type": "code",
      "source": [
        "even=[n for n in range(4,31) if n%2==0]\n",
        "print(f\"Even numbers between 4 and 30 are :{even}\")"
      ],
      "metadata": {
        "colab": {
          "base_uri": "https://localhost:8080/"
        },
        "id": "nxI92vqy1KbL",
        "outputId": "2933b2b2-5748-4c6a-f703-9ef44285d7d9"
      },
      "execution_count": null,
      "outputs": [
        {
          "output_type": "stream",
          "name": "stdout",
          "text": [
            "Even numbers between 4 and 30 are :[4, 6, 8, 10, 12, 14, 16, 18, 20, 22, 24, 26, 28, 30]\n"
          ]
        }
      ]
    },
    {
      "cell_type": "markdown",
      "source": [
        "4.Given a list, the task is to write a Python program to check if the value exists in the list or not using the lambda function.\n"
      ],
      "metadata": {
        "id": "Zr-PHiGE1rYk"
      }
    },
    {
      "cell_type": "code",
      "source": [
        "L=[1,2,3,4,5]\n",
        "element=int(input(\"Enter element to be checked in the list :\"))\n",
        "result=filter(lambda x:x==element,L)\n",
        "if(list(result)):\n",
        "  print(\"The entered element is present in the list\")\n",
        "else:\n",
        "  print(\"The entered element is not present in the list\")"
      ],
      "metadata": {
        "colab": {
          "base_uri": "https://localhost:8080/"
        },
        "id": "DRCntkch10Ys",
        "outputId": "b1fc736a-7fdc-4eb4-905c-b0537bfcf300"
      },
      "execution_count": null,
      "outputs": [
        {
          "output_type": "stream",
          "name": "stdout",
          "text": [
            "Enter element to be checked in the list :4\n",
            "The entered element is present in the list\n"
          ]
        }
      ]
    },
    {
      "cell_type": "markdown",
      "source": [
        "5.Sort the points based on their sum of elements in the tuples\n",
        "\n",
        "points = [(1, 2), (5, 3), (0, 7), (3, 1)]\n"
      ],
      "metadata": {
        "id": "_3HRMs2eJ02p"
      }
    },
    {
      "cell_type": "code",
      "source": [
        "points = [(1, 2), (5, 3), (0, 7), (3, 1)]\n",
        "result=sorted(points,key=lambda x:x[0]+x[1])\n",
        "print (result)"
      ],
      "metadata": {
        "colab": {
          "base_uri": "https://localhost:8080/"
        },
        "id": "mlx5iOY6J4hS",
        "outputId": "26906bae-5e9e-4b8a-951d-904be35c78c6"
      },
      "execution_count": null,
      "outputs": [
        {
          "output_type": "stream",
          "name": "stdout",
          "text": [
            "[(1, 2), (3, 1), (0, 7), (5, 3)]\n"
          ]
        }
      ]
    },
    {
      "cell_type": "markdown",
      "source": [
        "6.Write a python function, which will find all such numbers between 1000 and 3000 (both included) such that each digit of the number is an even number. Return the results as a list"
      ],
      "metadata": {
        "id": "775iSI1pPD4K"
      }
    },
    {
      "cell_type": "code",
      "source": [
        "def even_digits():\n",
        "  result=[]\n",
        "  for n in range (1000,3001):\n",
        "    digits=[int(digit) for digit in str(n)]\n",
        "    if all(digit%2==0 for digit in digits):\n",
        "      result.append(n)\n",
        "  return result\n",
        "output=even_digits()\n",
        "print(output)\n"
      ],
      "metadata": {
        "colab": {
          "base_uri": "https://localhost:8080/"
        },
        "id": "GMWhX9s5PJTi",
        "outputId": "f86c254d-89f1-44b3-ffc5-08c22ceac438"
      },
      "execution_count": null,
      "outputs": [
        {
          "output_type": "stream",
          "name": "stdout",
          "text": [
            "[2000, 2002, 2004, 2006, 2008, 2020, 2022, 2024, 2026, 2028, 2040, 2042, 2044, 2046, 2048, 2060, 2062, 2064, 2066, 2068, 2080, 2082, 2084, 2086, 2088, 2200, 2202, 2204, 2206, 2208, 2220, 2222, 2224, 2226, 2228, 2240, 2242, 2244, 2246, 2248, 2260, 2262, 2264, 2266, 2268, 2280, 2282, 2284, 2286, 2288, 2400, 2402, 2404, 2406, 2408, 2420, 2422, 2424, 2426, 2428, 2440, 2442, 2444, 2446, 2448, 2460, 2462, 2464, 2466, 2468, 2480, 2482, 2484, 2486, 2488, 2600, 2602, 2604, 2606, 2608, 2620, 2622, 2624, 2626, 2628, 2640, 2642, 2644, 2646, 2648, 2660, 2662, 2664, 2666, 2668, 2680, 2682, 2684, 2686, 2688, 2800, 2802, 2804, 2806, 2808, 2820, 2822, 2824, 2826, 2828, 2840, 2842, 2844, 2846, 2848, 2860, 2862, 2864, 2866, 2868, 2880, 2882, 2884, 2886, 2888]\n"
          ]
        }
      ]
    },
    {
      "cell_type": "markdown",
      "source": [
        "7.Write a python function that accepts a sentence and calculate and return the number of letters and digits.\n"
      ],
      "metadata": {
        "id": "3OiJqwX3TJYS"
      }
    },
    {
      "cell_type": "code",
      "source": [
        "def counter(sentence):\n",
        "  letters=0\n",
        "  digits=0\n",
        "  for char in sentence:\n",
        "    if(char.isalpha()):\n",
        "      letters+=1\n",
        "    elif(char.isdigit()):\n",
        "      digits+=1\n",
        "  return letters,digits\n",
        "sentence=\"hello world! 123\"\n",
        "letters,digits=counter(sentence)\n",
        "print(f\"LETTERS {letters}\")\n",
        "print(f\"DIGITS {digits}\")"
      ],
      "metadata": {
        "colab": {
          "base_uri": "https://localhost:8080/"
        },
        "id": "TasjMIVVTWZA",
        "outputId": "5e14d9c1-ab0a-415a-9c83-c2461c05f2cd"
      },
      "execution_count": null,
      "outputs": [
        {
          "output_type": "stream",
          "name": "stdout",
          "text": [
            "LETTERS 10\n",
            "DIGITS 3\n"
          ]
        }
      ]
    },
    {
      "cell_type": "markdown",
      "source": [
        "8.Write a Python program to convert all the characters into uppercase and lowercase and eliminate duplicate letters from a given sequence. Use the map() function\n"
      ],
      "metadata": {
        "id": "3zXvohW9lJoA"
      }
    },
    {
      "cell_type": "code",
      "source": [
        "def convert(sentence):\n",
        "  upper=map(str.upper,sentence)\n",
        "  lower=map(str.lower,sentence)\n",
        "  uniquechars=set(upper)|set(lower)\n",
        "  return uniquechars\n",
        "sentence=\"Hello world\"\n",
        "result=convert(sentence)\n",
        "print(f\"unique characters : {result}\")"
      ],
      "metadata": {
        "colab": {
          "base_uri": "https://localhost:8080/"
        },
        "id": "Ins2SsTjlR35",
        "outputId": "2bf9be3a-e2f7-4f84-a329-eb2adf1627bb"
      },
      "execution_count": null,
      "outputs": [
        {
          "output_type": "stream",
          "name": "stdout",
          "text": [
            "unique characters : {'E', 'r', 'o', 'R', 'h', 'O', 'w', 'e', 'H', 'L', 'D', 'l', 'd', ' ', 'W'}\n"
          ]
        }
      ]
    },
    {
      "cell_type": "markdown",
      "source": [
        "9. Write a Python program to element wise add two given lists and find the difference between them. Use the map() function\n"
      ],
      "metadata": {
        "id": "qIXdBbgf5dqY"
      }
    },
    {
      "cell_type": "code",
      "source": [
        "def addition(list1,list2):\n",
        "  sum=map(lambda x,y:x+y,list1,list2)\n",
        "  return sum\n",
        "def difference(list1,list2):\n",
        "  difference=map(lambda x,y:x-y,list1,list2)\n",
        "  return difference\n",
        "list1=[1,2,3,4,5]\n",
        "list2=[6,7,8,9,10]\n",
        "sum=addition(list1,list2)\n",
        "difference=difference(list1,list2)\n",
        "print(f\"The addition of the two list :{list(sum)}\")\n",
        "print(f\"The difference of the two list :{list(difference)}\")"
      ],
      "metadata": {
        "colab": {
          "base_uri": "https://localhost:8080/"
        },
        "id": "nMyus-Ok53by",
        "outputId": "2d6a0a5e-c3bd-4472-da24-eae3fe76a25e"
      },
      "execution_count": null,
      "outputs": [
        {
          "output_type": "stream",
          "name": "stdout",
          "text": [
            "The addition of the two list :[7, 9, 11, 13, 15]\n",
            "The difference of the two list :[-5, -5, -5, -5, -5]\n"
          ]
        }
      ]
    },
    {
      "cell_type": "markdown",
      "source": [
        "10.Write a Python program to filter the height and weight of students, which are stored in a dictionary using lambda.\n"
      ],
      "metadata": {
        "id": "Ci_Bg34u8uU5"
      }
    },
    {
      "cell_type": "code",
      "source": [
        "mydict={'Cierra Vega': (6.2, 71), 'Alden Cantrell': (5.9, 65), 'Kierra Gentry': (6.0, 68), 'Pierre Cox': (5.8, 66)}\n",
        "filtereddict=filter(lambda item:item[1][0]>6 and item[1][1]>70,mydict.items())\n",
        "print(f\"height greter than 6ft and weight greater than 70kg :{dict(filtereddict)}\")\n"
      ],
      "metadata": {
        "colab": {
          "base_uri": "https://localhost:8080/"
        },
        "id": "kpT83scp8zH5",
        "outputId": "491caed0-34b3-4e20-e0a0-941de6b81a0d"
      },
      "execution_count": null,
      "outputs": [
        {
          "output_type": "stream",
          "name": "stdout",
          "text": [
            "height greter than 6ft and weight greater than 70kg :{'Cierra Vega': (6.2, 71)}\n"
          ]
        }
      ]
    },
    {
      "cell_type": "markdown",
      "source": [
        "11.Write a Python program to remove all elements from a given list present in another list using lambda.\n"
      ],
      "metadata": {
        "id": "OBq171p-_O1S"
      }
    },
    {
      "cell_type": "code",
      "source": [
        "list1= [1, 2, 3, 4, 5, 6, 7, 8, 9, 10]\n",
        "list2= [2, 4, 6, 8]\n",
        "filteredlist=filter(lambda x:x not in list2,list1)\n",
        "print(f\"List 1 after removing elements from list 2 :{list(filteredlist)} \")"
      ],
      "metadata": {
        "colab": {
          "base_uri": "https://localhost:8080/"
        },
        "id": "JD1j_9jH_QRx",
        "outputId": "cefd22e0-8e0f-4246-e9a3-ab6536c643fa"
      },
      "execution_count": null,
      "outputs": [
        {
          "output_type": "stream",
          "name": "stdout",
          "text": [
            "List 1 after removing elements from list 2 :[1, 3, 5, 7, 9, 10] \n"
          ]
        }
      ]
    },
    {
      "cell_type": "markdown",
      "source": [
        "12.Write a Python program to calculate the product of a given list of numbers using lambda.\n"
      ],
      "metadata": {
        "id": "mINAH-d4Kupn"
      }
    },
    {
      "cell_type": "code",
      "source": [
        "list=[1, 2, 3, 4, 5, 6, 7, 8, 9, 10]\n",
        "import functools\n",
        "product=functools.reduce(lambda x,y:x*y,list)\n",
        "print(f\"The product of the given list of numbers :{product}\")"
      ],
      "metadata": {
        "colab": {
          "base_uri": "https://localhost:8080/"
        },
        "id": "pYUkzwwnKzXQ",
        "outputId": "b2b891d8-aaa1-4730-b8ea-75ad24ab3379"
      },
      "execution_count": null,
      "outputs": [
        {
          "output_type": "stream",
          "name": "stdout",
          "text": [
            "The product of the given list of numbers :3628800\n"
          ]
        }
      ]
    },
    {
      "cell_type": "markdown",
      "source": [
        "13. Write a Python program to multiply all the numbers in a given list using lambda.\n"
      ],
      "metadata": {
        "id": "zWfn7WhWLjYx"
      }
    },
    {
      "cell_type": "code",
      "source": [
        "list=[4, 3, 2, 2, -1, 18]\n",
        "import functools\n",
        "product=functools.reduce(lambda x,y:x*y,list)\n",
        "print(f\"The result after multiplying all the numbers of the given list of numbers :{product}\")"
      ],
      "metadata": {
        "colab": {
          "base_uri": "https://localhost:8080/"
        },
        "id": "wSDSltneL2OH",
        "outputId": "d61f8ccb-21a0-4020-d640-a62ee9b003bb"
      },
      "execution_count": null,
      "outputs": [
        {
          "output_type": "stream",
          "name": "stdout",
          "text": [
            "The result after multiplying all the numbers of the given list of numbers :-864\n"
          ]
        }
      ]
    },
    {
      "cell_type": "markdown",
      "source": [
        "14.Write a Python program to calculate the average value of the numbers in a given tuple of tuples using lambda.\n"
      ],
      "metadata": {
        "id": "dmHEevwVMMcy"
      }
    },
    {
      "cell_type": "code",
      "source": [
        "tupleoftuple=((10, 10, 10), (30, 45, 56), (81, 80, 39), (1, 2, 3))\n",
        "average= tuple (sum(x)/len(x) for x in zip(*tupleoftuple))\n",
        "print(f\"The average value of the numbers in a given tuple of tuples :{average}\")"
      ],
      "metadata": {
        "colab": {
          "base_uri": "https://localhost:8080/"
        },
        "id": "h6HUbhImMX4W",
        "outputId": "5d294b35-fd20-4db5-d629-3e86485828c1"
      },
      "execution_count": null,
      "outputs": [
        {
          "output_type": "stream",
          "name": "stdout",
          "text": [
            "The average value of the numbers in a given tuple of tuples :(30.5, 34.25, 27.0)\n"
          ]
        }
      ]
    },
    {
      "cell_type": "markdown",
      "source": [
        "15.Write a Python program to sort a given mixed list of integers and strings using lambda. Numbers must be sorted before strings.\n"
      ],
      "metadata": {
        "id": "3TCrmTzSYSBe"
      }
    },
    {
      "cell_type": "code",
      "source": [
        "mylist=[19, 'red', 12, 'green', 'blue', 10, 'white', 'green', 1]\n",
        "sortedlist=sorted(mylist,key=lambda x:(isinstance(x,str),x))\n",
        "print(f\"Sorted list :{sortedlist}\")"
      ],
      "metadata": {
        "colab": {
          "base_uri": "https://localhost:8080/"
        },
        "id": "_20e2slv2HSo",
        "outputId": "e98ffbfe-11e9-42d7-c40a-8cf2fbda3be0"
      },
      "execution_count": 3,
      "outputs": [
        {
          "output_type": "stream",
          "name": "stdout",
          "text": [
            "Sorted list :[1, 10, 12, 19, 'blue', 'green', 'green', 'red', 'white']\n"
          ]
        }
      ]
    },
    {
      "cell_type": "markdown",
      "source": [
        "16.Write a Python program to count the occurrences of items in a given list using lambda.\n"
      ],
      "metadata": {
        "id": "lyHoqSIV4KP5"
      }
    },
    {
      "cell_type": "code",
      "source": [
        "mylist=[3, 4, 5, 8, 0, 3, 8, 5, 0, 3, 1, 5, 2, 3, 4, 2]\n",
        "mydict={}\n",
        "for i in mylist:\n",
        "  if i in mydict:\n",
        "    mydict[i]+=1\n",
        "  else:\n",
        "    mydict[i]=1\n",
        "print(f\"The occurrences of items in a given list :{mydict}\")"
      ],
      "metadata": {
        "colab": {
          "base_uri": "https://localhost:8080/"
        },
        "id": "syuhdWB-4Q1g",
        "outputId": "e4a08003-2f9a-4016-db9c-5cf0ad3c9d4a"
      },
      "execution_count": 4,
      "outputs": [
        {
          "output_type": "stream",
          "name": "stdout",
          "text": [
            "The occurrences of items in a given list :{3: 4, 4: 2, 5: 3, 8: 2, 0: 2, 1: 1, 2: 2}\n"
          ]
        }
      ]
    },
    {
      "cell_type": "markdown",
      "source": [
        "17.Write a Python program to remove None values from a given list using the lambda function.\n"
      ],
      "metadata": {
        "id": "r8-fr3Lz5uvg"
      }
    },
    {
      "cell_type": "code",
      "source": [
        "mylist=[12, 0, None, 23, None, -55, 234, 89, None, 0, 6, -12]\n",
        "filteredlist=filter(lambda x:x is not None,mylist)\n",
        "print(f\"List after removing None values :{list(filteredlist)}\")"
      ],
      "metadata": {
        "colab": {
          "base_uri": "https://localhost:8080/"
        },
        "id": "3KKE9f_R507n",
        "outputId": "5faa60fd-32bd-4815-a853-30ff876b68cf"
      },
      "execution_count": 5,
      "outputs": [
        {
          "output_type": "stream",
          "name": "stdout",
          "text": [
            "List after removing None values :[12, 0, 23, -55, 234, 89, 0, 6, -12]\n"
          ]
        }
      ]
    }
  ]
}