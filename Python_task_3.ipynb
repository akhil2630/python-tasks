{
  "nbformat": 4,
  "nbformat_minor": 0,
  "metadata": {
    "colab": {
      "provenance": [],
      "authorship_tag": "ABX9TyMMuUGmBAC61oMEH3NuzQ/q",
      "include_colab_link": true
    },
    "kernelspec": {
      "name": "python3",
      "display_name": "Python 3"
    },
    "language_info": {
      "name": "python"
    }
  },
  "cells": [
    {
      "cell_type": "markdown",
      "metadata": {
        "id": "view-in-github",
        "colab_type": "text"
      },
      "source": [
        "<a href=\"https://colab.research.google.com/github/akhil2630/python-tasks/blob/main/Python_task_3.ipynb\" target=\"_parent\"><img src=\"https://colab.research.google.com/assets/colab-badge.svg\" alt=\"Open In Colab\"/></a>"
      ]
    },
    {
      "cell_type": "markdown",
      "source": [
        "1.Write Python code that prints your name, student number and email address."
      ],
      "metadata": {
        "id": "KUMxT6Uyk_uR"
      }
    },
    {
      "cell_type": "code",
      "source": [
        "\n",
        "name=input(\"Enter your name:\")\n",
        "studentno=input(\"Enter your student number:\")\n",
        "email=input(\"Enter your email adddress:\")\n",
        "print(\"STUDENT DETAILS\")\n",
        "print(name)\n",
        "print(studentno)\n",
        "print(email)"
      ],
      "metadata": {
        "colab": {
          "base_uri": "https://localhost:8080/"
        },
        "id": "7xRkHn3glHXQ",
        "outputId": "7770b319-e200-4d0e-a0eb-ee72fc7f1737"
      },
      "execution_count": 2,
      "outputs": [
        {
          "output_type": "stream",
          "name": "stdout",
          "text": [
            "Enter your name:Bob\n",
            "Enter your student number:ST1001\n",
            "Enter your email adddress:bob@gmail.com\n",
            "STUDENT DETAILS\n",
            "Bob\n",
            "ST1001\n",
            "bob@gmail.com\n"
          ]
        }
      ]
    },
    {
      "cell_type": "markdown",
      "source": [
        "2.Write Python code that prints your name, student number and email address using escape sequences.  "
      ],
      "metadata": {
        "id": "8CuQaUednQ0S"
      }
    },
    {
      "cell_type": "code",
      "source": [
        "name=input(\"Enter your name:\")\n",
        "studentno=input(\"Enter your student number:\")\n",
        "email=input(\"Enter your email adddress:\")\n",
        "print(\"STUDENT DETAILS\")\n",
        "print(f\"{name}\\n{studentno}\\n{email}\")"
      ],
      "metadata": {
        "colab": {
          "base_uri": "https://localhost:8080/"
        },
        "id": "uBKQS4wgnWwh",
        "outputId": "c113b8d0-3d55-49ef-8a26-4e75526e87bc"
      },
      "execution_count": 8,
      "outputs": [
        {
          "output_type": "stream",
          "name": "stdout",
          "text": [
            "Enter your name:Bob\n",
            "Enter your student number:ST11001\n",
            "Enter your email adddress:bob@gamil.com\n",
            "STUDENT DETAILS\n",
            "Bob\n",
            "ST11001\n",
            "bob@gamil.com\n"
          ]
        }
      ]
    },
    {
      "cell_type": "markdown",
      "source": [
        "3.Write Python code that add, subtract, multiply and divide the two numbers. You can use the two numbers 14 and 7."
      ],
      "metadata": {
        "id": "_kqrmJN9own7"
      }
    },
    {
      "cell_type": "code",
      "source": [
        "print(\"Addtion,Subtraction,multiplication and division of 14 and 7\")\n",
        "num1=14\n",
        "num2=7\n",
        "print(f\"{num1}+{num2}={num1+num2}\")\n",
        "print(f\"{num1}-{num2}={num1-num2}\")\n",
        "print(f\"{num1}*{num2}={num1*num2}\")\n",
        "print(f\"{num1}/{num2}={num1/num2}\")"
      ],
      "metadata": {
        "colab": {
          "base_uri": "https://localhost:8080/"
        },
        "id": "crTW8ZSxo9Wr",
        "outputId": "15e36760-ab43-41c3-ccbf-a079eee2191b"
      },
      "execution_count": 9,
      "outputs": [
        {
          "output_type": "stream",
          "name": "stdout",
          "text": [
            "Addtion,Subtraction,multiplication and division of 14 and 7\n",
            "14+7=21\n",
            "14-7=7\n",
            "14*7=98\n",
            "14/7=2.0\n"
          ]
        }
      ]
    },
    {
      "cell_type": "markdown",
      "source": [
        "4.Write Python code that displays the numbers from 1 to 5 as steps\n"
      ],
      "metadata": {
        "id": "Fw59OZ2xw0PX"
      }
    },
    {
      "cell_type": "code",
      "source": [
        "for i in range(1,6):\n",
        "  print(i)"
      ],
      "metadata": {
        "colab": {
          "base_uri": "https://localhost:8080/"
        },
        "id": "OU80qIX8w224",
        "outputId": "fe96279d-0670-40f0-f9eb-2a7e2511931c"
      },
      "execution_count": 11,
      "outputs": [
        {
          "output_type": "stream",
          "name": "stdout",
          "text": [
            "1\n",
            "2\n",
            "3\n",
            "4\n",
            "5\n"
          ]
        }
      ]
    },
    {
      "cell_type": "markdown",
      "source": [],
      "metadata": {
        "id": "sf4HgJPPxPY4"
      }
    },
    {
      "cell_type": "markdown",
      "source": [
        "5.Write Python code that outputs the following sentence (including the quotation marks and line break) to the screen:\n",
        "An example runs of the program:  \n",
        "\"SDK\" stands for \"Software Development Kit\", whereas\n",
        "\"IDE\" stands for \"Integrated Development Environment\".\n"
      ],
      "metadata": {
        "id": "MQzet3QNxPmH"
      }
    },
    {
      "cell_type": "code",
      "source": [
        "print('''\"SDK\" stands for \"Software Development Kit\", whereas\n",
        "\"IDE\" stands for \"Integrated Development Environment\".''')"
      ],
      "metadata": {
        "colab": {
          "base_uri": "https://localhost:8080/"
        },
        "id": "qENKH9JcxXoO",
        "outputId": "d67607df-7749-4ce3-8896-fd9933a559f6"
      },
      "execution_count": 14,
      "outputs": [
        {
          "output_type": "stream",
          "name": "stdout",
          "text": [
            "\"SDK\" stands for \"Software Development Kit\", whereas\n",
            "\"IDE\" stands for \"Integrated Development Environment\".\n"
          ]
        }
      ]
    },
    {
      "cell_type": "markdown",
      "source": [
        "6.Practice and check the output\n",
        "print(\"python is an \\\"awesome\\\" language.\")\n",
        "print(\"python\\n\\t2023\")\n",
        "print('I\\'m from Entri.\\b')\n",
        "print(\"\\65\")\n",
        "print(\"\\x65\")\n",
        "print(\"Entri\", \"2023\", sep=\"\\n\")\n",
        "print(\"Entri\", \"2023\", sep=\"\\b\")\n",
        "print(\"Entri\", \"2023\", sep=\"*\", end=\"\\b\\b\\b\\b\")"
      ],
      "metadata": {
        "id": "YmGwOBDkyVaA"
      }
    },
    {
      "cell_type": "code",
      "source": [
        "print(\"python is an \\\"awesome\\\" language.\")\n",
        "print(\"python\\n\\t2023\")\n",
        "print('I\\'m from Entri.\\b')\n",
        "print(\"\\65\")\n",
        "print(\"\\x65\")\n",
        "print(\"Entri\", \"2023\", sep=\"\\n\")\n",
        "print(\"Entri\", \"2023\", sep=\"\\b\")\n",
        "print(\"Entri\", \"2023\", sep=\"*\", end=\"\\b\\b\\b\\b\")"
      ],
      "metadata": {
        "colab": {
          "base_uri": "https://localhost:8080/"
        },
        "id": "OZts5C-fyj1Y",
        "outputId": "ff637e04-282e-4f0c-e92c-da04c6c13f28"
      },
      "execution_count": 15,
      "outputs": [
        {
          "output_type": "stream",
          "name": "stdout",
          "text": [
            "python is an \"awesome\" language.\n",
            "python\n",
            "\t2023\n",
            "I'm from Entri.\b\n",
            "5\n",
            "e\n",
            "Entri\n",
            "2023\n",
            "Entri\b2023\n",
            "Entri*2023\b\b\b\b"
          ]
        }
      ]
    },
    {
      "cell_type": "markdown",
      "source": [
        "7.Define the variables below. Print the types of each variable. What is the sum of your variables? (Hint: use a type conversion function.) What datatype is the sum?\n",
        "num=23\n",
        "textnum=\"57\"\n",
        "decimal=98.3\n"
      ],
      "metadata": {
        "id": "tSUG0n-b0bnB"
      }
    },
    {
      "cell_type": "code",
      "source": [
        "num=23\n",
        "textnum=\"57\"\n",
        "decimal=98.3\n",
        "print(\"The datatype of given variables are :\")\n",
        "print(type(num))\n",
        "print(type(textnum))\n",
        "print(type(decimal))\n",
        "sum=num+int(textnum)+decimal\n",
        "print(f\"The datatype of sum is: {type(sum)}\")"
      ],
      "metadata": {
        "colab": {
          "base_uri": "https://localhost:8080/"
        },
        "id": "v0nT6rwH3DZg",
        "outputId": "44a4e276-0cb7-4316-f8a2-cc0002f1dd23"
      },
      "execution_count": 18,
      "outputs": [
        {
          "output_type": "stream",
          "name": "stdout",
          "text": [
            "The datatype of given variables are :\n",
            "<class 'int'>\n",
            "<class 'str'>\n",
            "<class 'float'>\n",
            "The datatype of sum is: <class 'float'>\n"
          ]
        }
      ]
    },
    {
      "cell_type": "markdown",
      "source": [
        "8.calculate the number of minutes in a year using variables for each unit of time. print a statement that describes what your code does also. Create three variables to store no of days in a year, minute in a hour, hours in a day, then calculate the total minutes in a year and print the values"
      ],
      "metadata": {
        "id": "ZrZLTwTH4Yiy"
      }
    },
    {
      "cell_type": "code",
      "source": [
        "days_in_a_year=365\n",
        "hours_in_a_day=24\n",
        "minutes_in_a_hour=60\n",
        "total_minutes=days_in_a_year*hours_in_a_day*minutes_in_a_hour\n",
        "print(\"We get the total minutes in a year by multliplying total days in a year,total hours in a day and total minutes in an hour \")\n",
        "print(f\"total minutes in a year is :{total_minutes}\")\n",
        "print(f\"total days in a year is :{days_in_a_year}\")\n",
        "print(f\"total hours in a day is :{hours_in_a_day}\")\n",
        "print(f\"total minutes in a hour is :{minutes_in_a_hour}\")\n"
      ],
      "metadata": {
        "colab": {
          "base_uri": "https://localhost:8080/"
        },
        "id": "jG-g7_-U4jGY",
        "outputId": "6ffc3fb4-7e76-4109-8008-54975b6b3f00"
      },
      "execution_count": 19,
      "outputs": [
        {
          "output_type": "stream",
          "name": "stdout",
          "text": [
            "We get the total minutes in a year by multliplying total days in a year,total hours in a day and total minutes in an hour \n",
            "total minutes in a year is :525600\n",
            "total days in a year is :365\n",
            "total hours in a day is :24\n",
            "total minutes in a hour is :60\n"
          ]
        }
      ]
    },
    {
      "cell_type": "markdown",
      "source": [
        "9.Write Python code that asks the user to enter his/her name and then output/prints his/her name with a greeting.\n",
        "An example runs of the program:\n",
        "Please enter you name: Tony\n",
        "Hi Tony, welcome to Python programming :)\n"
      ],
      "metadata": {
        "id": "PHN9OVlR7f8D"
      }
    },
    {
      "cell_type": "code",
      "source": [
        "name=input(\"Please enter your name:\")\n",
        "print(f\"Hi {name},welcome to python programming:)\")"
      ],
      "metadata": {
        "colab": {
          "base_uri": "https://localhost:8080/"
        },
        "id": "2BpzJS5c7lzx",
        "outputId": "3b20e0c9-ceb6-4b72-bc18-5bc3a34f77c7"
      },
      "execution_count": 21,
      "outputs": [
        {
          "output_type": "stream",
          "name": "stdout",
          "text": [
            "Please enter your name:Tony\n",
            "Hi Tony,welcome to python programming:)\n"
          ]
        }
      ]
    },
    {
      "cell_type": "markdown",
      "source": [
        "10.Write a program that asks the user to enter an amount in pounds £ and the program calculates and converts an amount in dollar $\n",
        "An example runs of the program:\n",
        "Please enter amount in pounds: xxx\n",
        "£ xxx are $ xxx"
      ],
      "metadata": {
        "id": "CNCQWW9I8N2j"
      }
    },
    {
      "cell_type": "code",
      "source": [
        "pounds=int(input(\"Please Enter the amount in pounds :\"))\n",
        "dollars=pounds*1.41\n",
        "print(f\"£ {pounds} are $ {dollars}\")"
      ],
      "metadata": {
        "colab": {
          "base_uri": "https://localhost:8080/"
        },
        "id": "9iXdMAEt8ZDS",
        "outputId": "4dc98352-e97d-420b-bd44-1bbb82472076"
      },
      "execution_count": 25,
      "outputs": [
        {
          "output_type": "stream",
          "name": "stdout",
          "text": [
            "Please Enter the amount in pounds :30\n",
            "£ 30 are $ 42.3\n"
          ]
        }
      ]
    }
  ]
}